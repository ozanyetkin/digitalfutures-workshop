{
 "cells": [
  {
   "cell_type": "markdown",
   "metadata": {},
   "source": [
    "Import the JSON module since SIMOC exports the data in JSON (JavaScript Object Notation) format"
   ]
  },
  {
   "cell_type": "code",
   "execution_count": 99,
   "metadata": {},
   "outputs": [],
   "source": [
    "import json"
   ]
  },
  {
   "cell_type": "markdown",
   "metadata": {},
   "source": [
    "Open the simulation data as file, use `json.load()` method to retrieve data inside"
   ]
  },
  {
   "cell_type": "code",
   "execution_count": 100,
   "metadata": {},
   "outputs": [],
   "source": [
    "file = open(\"simoc-simulation-data.json\")\n",
    "data = json.load(file)"
   ]
  },
  {
   "cell_type": "markdown",
   "metadata": {},
   "source": [
    "Iterate through data using `for` loop and use `print()` function to observe what is inside"
   ]
  },
  {
   "cell_type": "code",
   "execution_count": 101,
   "metadata": {},
   "outputs": [],
   "source": [
    "for key, value in data[\"game_config\"][\"agents\"].items():\n",
    "    if key == \"crew_habitat_medium\":\n",
    "        habitat_n2 = value[\"n2\"]\n",
    "        habitat_o2 = value[\"o2\"]\n",
    "        habitat_co2 = value[\"co2\"]\n",
    "        habitat_h2 = value[\"h2\"]\n",
    "\n",
    "    if key == \"greenhouse_small\":\n",
    "        greenhouse_n2 = value[\"n2\"]\n",
    "        greenhouse_o2 = value[\"o2\"]\n",
    "        greenhouse_co2 = value[\"co2\"]\n",
    "        greenhouse_h2 = value[\"h2\"]\n",
    "\n",
    "    if key == \"water_storage\":\n",
    "        water_potable = value[\"potable\"]\n",
    "        water_treated = value[\"treated\"]\n",
    "        water_urine = value[\"urine\"]\n",
    "\n",
    "    if key ==\"nutrient_storage\":\n",
    "        nutrient_fertilizer = value[\"fertilizer\"]\n",
    "        nutrient_biomass = value[\"biomass\"]\n",
    "        nutrient_waste = value[\"waste\"]\n",
    "\n",
    "    if key == \"power_storage\":\n",
    "        power_kwh = value[\"kwh\"]\n",
    "\n",
    "    food_total = 0\n",
    "    if key == \"food_storage\":\n",
    "        for k, v in value.items():\n",
    "            food_total += value[\"amount\"]"
   ]
  },
  {
   "cell_type": "code",
   "execution_count": 102,
   "metadata": {},
   "outputs": [
    {
     "name": "stdout",
     "output_type": "stream",
     "text": [
      "Total N2 level in habitat is: 2205.873\n",
      "Total O2 level in habitat is: 591.7245\n",
      "Total CO2 level in habitat is: 1.167629\n",
      "Total H2 level in habitat is: 0.0015537500000000002\n",
      "Total N2 level in greenhouse is: 478.26450000000006\n",
      "Total O2 level in greenhouse is: 128.29425\n",
      "Total CO2 level in greenhouse is: 0.2531585\n",
      "Total H2 level in greenhouse is: 0.00033687500000000004\n",
      "Total potable water level in water storage is: 2475\n",
      "Total treated water level in water storage is: 275\n",
      "Total urine level in water storage is: 0\n",
      "Total amount of fertilizer in nutrient storage is: 300\n",
      "Total amount of biomass in nutrient storage is: 0\n",
      "Total amount of nutrient waste in nutrient storage is: 0\n",
      "Total amount of energy in power storage is: 1000\n",
      "Total food in food storage is: 8\n"
     ]
    }
   ],
   "source": [
    "print(f\"Total N2 level in habitat is: {habitat_n2}\")\n",
    "print(f\"Total O2 level in habitat is: {habitat_o2}\")\n",
    "print(f\"Total CO2 level in habitat is: {habitat_co2}\")\n",
    "print(f\"Total H2 level in habitat is: {habitat_h2}\")\n",
    "\n",
    "print(f\"Total N2 level in greenhouse is: {greenhouse_n2}\")\n",
    "print(f\"Total O2 level in greenhouse is: {greenhouse_o2}\")\n",
    "print(f\"Total CO2 level in greenhouse is: {greenhouse_co2}\")\n",
    "print(f\"Total H2 level in greenhouse is: {greenhouse_h2}\")\n",
    "\n",
    "print(f\"Total potable water level in water storage is: {water_potable}\")\n",
    "print(f\"Total treated water level in water storage is: {water_treated}\")\n",
    "print(f\"Total urine level in water storage is: {water_urine}\")\n",
    "\n",
    "print(f\"Total amount of fertilizer in nutrient storage is: {nutrient_fertilizer}\")\n",
    "print(f\"Total amount of biomass in nutrient storage is: {nutrient_biomass}\")\n",
    "print(f\"Total amount of nutrient waste in nutrient storage is: {nutrient_waste}\")\n",
    "\n",
    "print(f\"Total amount of energy in power storage is: {power_kwh}\")\n",
    "\n",
    "print(f\"Total food in food storage is: {food_total}\")"
   ]
  },
  {
   "cell_type": "markdown",
   "metadata": {},
   "source": [
    "Iterate over steps to get total consumption data inside each day"
   ]
  },
  {
   "cell_type": "code",
   "execution_count": 103,
   "metadata": {},
   "outputs": [],
   "source": [
    "steps = data['steps']"
   ]
  },
  {
   "cell_type": "code",
   "execution_count": 104,
   "metadata": {},
   "outputs": [],
   "source": [
    "for key, value in data[\"storage_capacities\"].items():\n",
    "    for k, v in value.items():\n",
    "        if k == \"crew_habitat_medium\":\n",
    "            habitat_n2 = v[\"1\"][\"n2\"][\"value\"]\n",
    "            habitat_o2 = v[\"1\"][\"o2\"][\"value\"]\n",
    "            habitat_co2 = v[\"1\"][\"co2\"][\"value\"]\n",
    "            habitat_h2 = v[\"1\"][\"h2\"][\"value\"]\n",
    "\n",
    "        if k == \"greenhouse_small\":\n",
    "            greenhouse_n2 = v[\"1\"][\"n2\"]\n",
    "            greenhouse_o2 = v[\"1\"][\"o2\"]\n",
    "            greenhouse_co2 = v[\"1\"][\"co2\"]\n",
    "            greenhouse_h2 = v[\"1\"][\"h2\"]\n",
    "\n",
    "        if k == \"water_storage\":\n",
    "            water_potable = v[\"1\"][\"potable\"]\n",
    "            water_treated = v[\"1\"][\"treated\"]\n",
    "            water_urine = v[\"1\"][\"urine\"]\n",
    "\n",
    "        if k ==\"nutrient_storage\":\n",
    "            nutrient_fertilizer = v[\"1\"][\"fertilizer\"]\n",
    "            nutrient_biomass = v[\"1\"][\"biomass\"]\n",
    "            nutrient_waste = v[\"1\"][\"waste\"]\n",
    "\n",
    "        if k == \"power_storage\":\n",
    "            power_kwh = v[\"1\"][\"kwh\"]\n",
    "\n",
    "        food_total = 0\n",
    "        if k == \"food_storage\":\n",
    "            for k_, v_ in v.items():\n",
    "                food_total += v_[\"amount\"]"
   ]
  },
  {
   "cell_type": "code",
   "execution_count": 105,
   "metadata": {},
   "outputs": [
    {
     "name": "stdout",
     "output_type": "stream",
     "text": [
      "Total N2 level in habitat is: 2205.873\n",
      "Total O2 level in habitat is: 601.845636\n",
      "Total CO2 level in habitat is: 1.011708\n",
      "Total H2 level in habitat is: 0.001554\n",
      "Total N2 level in greenhouse is: 478.26450000000006\n",
      "Total O2 level in greenhouse is: 128.29425\n",
      "Total CO2 level in greenhouse is: 0.2531585\n",
      "Total H2 level in greenhouse is: 0.00033687500000000004\n",
      "Total potable water level in water storage is: 2475\n",
      "Total treated water level in water storage is: 275\n",
      "Total urine level in water storage is: 0\n",
      "Total amount of fertilizer in nutrient storage is: 300\n",
      "Total amount of biomass in nutrient storage is: 0\n",
      "Total amount of nutrient waste in nutrient storage is: 0\n",
      "Total amount of energy in power storage is: 1000\n",
      "Total food in food storage is: 0\n"
     ]
    }
   ],
   "source": [
    "print(f\"Total N2 level in habitat is: {habitat_n2}\")\n",
    "print(f\"Total O2 level in habitat is: {habitat_o2}\")\n",
    "print(f\"Total CO2 level in habitat is: {habitat_co2}\")\n",
    "print(f\"Total H2 level in habitat is: {habitat_h2}\")\n",
    "\n",
    "print(f\"Total N2 level in greenhouse is: {greenhouse_n2}\")\n",
    "print(f\"Total O2 level in greenhouse is: {greenhouse_o2}\")\n",
    "print(f\"Total CO2 level in greenhouse is: {greenhouse_co2}\")\n",
    "print(f\"Total H2 level in greenhouse is: {greenhouse_h2}\")\n",
    "\n",
    "print(f\"Total potable water level in water storage is: {water_potable}\")\n",
    "print(f\"Total treated water level in water storage is: {water_treated}\")\n",
    "print(f\"Total urine level in water storage is: {water_urine}\")\n",
    "\n",
    "print(f\"Total amount of fertilizer in nutrient storage is: {nutrient_fertilizer}\")\n",
    "print(f\"Total amount of biomass in nutrient storage is: {nutrient_biomass}\")\n",
    "print(f\"Total amount of nutrient waste in nutrient storage is: {nutrient_waste}\")\n",
    "\n",
    "print(f\"Total amount of energy in power storage is: {power_kwh}\")\n",
    "\n",
    "print(f\"Total food in food storage is: {food_total}\")"
   ]
  },
  {
   "cell_type": "code",
   "execution_count": 106,
   "metadata": {},
   "outputs": [],
   "source": [
    "file.close()"
   ]
  },
  {
   "cell_type": "markdown",
   "metadata": {},
   "source": []
  }
 ],
 "metadata": {
  "kernelspec": {
   "display_name": "Python 3.10.0 64-bit ('3.10.0')",
   "language": "python",
   "name": "python3"
  },
  "language_info": {
   "codemirror_mode": {
    "name": "ipython",
    "version": 3
   },
   "file_extension": ".py",
   "mimetype": "text/x-python",
   "name": "python",
   "nbconvert_exporter": "python",
   "pygments_lexer": "ipython3",
   "version": "3.10.0"
  },
  "orig_nbformat": 4,
  "vscode": {
   "interpreter": {
    "hash": "7ae97f4ecaa294cf52a89096842f766e3d7261ad296543b242f28d017159f378"
   }
  }
 },
 "nbformat": 4,
 "nbformat_minor": 2
}
