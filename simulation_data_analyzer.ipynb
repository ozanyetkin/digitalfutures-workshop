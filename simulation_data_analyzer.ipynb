{
 "cells": [
  {
   "cell_type": "markdown",
   "metadata": {},
   "source": [
    "Import the JSON module since SIMOC exports the data in JSON (JavaScript Object Notation) format"
   ]
  },
  {
   "cell_type": "code",
   "execution_count": 51,
   "metadata": {},
   "outputs": [],
   "source": [
    "import json"
   ]
  },
  {
   "cell_type": "markdown",
   "metadata": {},
   "source": [
    "Open the simulation data as file, use `json.load()` method to retrieve data inside"
   ]
  },
  {
   "cell_type": "code",
   "execution_count": 52,
   "metadata": {},
   "outputs": [],
   "source": [
    "file = open('simoc-simulation-data.json')\n",
    "data = json.load(file)"
   ]
  },
  {
   "cell_type": "markdown",
   "metadata": {},
   "source": [
    "Iterate through data using `for` loop and use `print()` function to observe what is inside"
   ]
  },
  {
   "cell_type": "code",
   "execution_count": 57,
   "metadata": {},
   "outputs": [
    {
     "name": "stdout",
     "output_type": "stream",
     "text": [
      "2205.873 591.7245 1.167629 0.0015537500000000002\n"
     ]
    }
   ],
   "source": [
    "for key, value in data['game_config']['agents'].items():\n",
    "    if key == \"crew_habitat_medium\":\n",
    "        for e in [\"n2\", \"o2\", \"co2\", \"h2\"]:\n",
    "            n2_start = value[\"n2\"]\n",
    "            o2_start = value[\"o2\"]\n",
    "            co2_start = value[\"co2\"]\n",
    "            h2_start = value[\"h2\"]"
   ]
  },
  {
   "cell_type": "code",
   "execution_count": null,
   "metadata": {},
   "outputs": [],
   "source": [
    "for key, value in data['game_config']['agents'].items():\n",
    "    if key == \"crew_habitat_medium\":\n",
    "        for e in [\"n2\", \"o2\", \"co2\", \"h2\"]:\n",
    "            n2_start = value[\"n2\"]\n",
    "            o2_start = value[\"o2\"]\n",
    "            co2_start = value[\"co2\"]\n",
    "            h2_start = value[\"h2\"]"
   ]
  },
  {
   "cell_type": "markdown",
   "metadata": {},
   "source": [
    "Retrieve `steps` data to understand how many hours spent in the simulation"
   ]
  },
  {
   "cell_type": "code",
   "execution_count": null,
   "metadata": {},
   "outputs": [],
   "source": [
    "steps = data['steps']"
   ]
  },
  {
   "cell_type": "markdown",
   "metadata": {},
   "source": [
    "Iterate over steps to get total consumption data inside each day"
   ]
  },
  {
   "cell_type": "code",
   "execution_count": null,
   "metadata": {},
   "outputs": [
    {
     "name": "stdout",
     "output_type": "stream",
     "text": [
      "human_agent\n",
      "solar_pv_array_mars\n",
      "crew_habitat_medium\n",
      "greenhouse_small\n",
      "atmosphere_equalizer\n",
      "water_storage\n",
      "nutrient_storage\n",
      "ration_storage\n",
      "power_storage\n",
      "solid_waste_aerobic_bioreactor\n",
      "multifiltration_purifier_post_treatment\n",
      "oxygen_generation_SFWE\n",
      "urine_recycling_processor_VCD\n",
      "co2_removal_SAWD\n",
      "co2_makeup_valve\n",
      "co2_storage\n",
      "co2_reduction_sabatier\n",
      "ch4_removal_agent\n",
      "dehumidifier\n",
      "wheat\n",
      "cabbage\n",
      "strawberry\n",
      "radish\n",
      "red_beet\n",
      "onion\n",
      "food_storage\n"
     ]
    }
   ],
   "source": [
    "for value in data['game_config']['agents']:\n",
    "    print(value)"
   ]
  },
  {
   "cell_type": "code",
   "execution_count": null,
   "metadata": {},
   "outputs": [],
   "source": [
    "file.close()"
   ]
  },
  {
   "cell_type": "markdown",
   "metadata": {},
   "source": []
  }
 ],
 "metadata": {
  "kernelspec": {
   "display_name": "Python 3.10.0 64-bit ('3.10.0')",
   "language": "python",
   "name": "python3"
  },
  "language_info": {
   "codemirror_mode": {
    "name": "ipython",
    "version": 3
   },
   "file_extension": ".py",
   "mimetype": "text/x-python",
   "name": "python",
   "nbconvert_exporter": "python",
   "pygments_lexer": "ipython3",
   "version": "3.10.0"
  },
  "orig_nbformat": 4,
  "vscode": {
   "interpreter": {
    "hash": "7ae97f4ecaa294cf52a89096842f766e3d7261ad296543b242f28d017159f378"
   }
  }
 },
 "nbformat": 4,
 "nbformat_minor": 2
}
