{
 "cells": [
  {
   "cell_type": "markdown",
   "metadata": {},
   "source": [
    "Import the JSON module since SIMOC exports the data in JSON (JavaScript Object Notation) format"
   ]
  },
  {
   "cell_type": "code",
   "execution_count": 420,
   "metadata": {},
   "outputs": [],
   "source": [
    "import json"
   ]
  },
  {
   "cell_type": "markdown",
   "metadata": {},
   "source": [
    "Open the simulation data as file, use `json.load()` method to retrieve data inside"
   ]
  },
  {
   "cell_type": "code",
   "execution_count": 421,
   "metadata": {},
   "outputs": [],
   "source": [
    "file = open(\"simoc-simulation-data-4humans-garden.json\")\n",
    "data = json.load(file)"
   ]
  },
  {
   "cell_type": "markdown",
   "metadata": {},
   "source": [
    "Iterate through `storage_capacities` data using `for` loop and use `print()` function to observe what is inside"
   ]
  },
  {
   "cell_type": "code",
   "execution_count": 422,
   "metadata": {},
   "outputs": [
    {
     "name": "stdout",
     "output_type": "stream",
     "text": [
      "crew_habitat_medium\n",
      "greenhouse_small\n",
      "water_storage\n",
      "nutrient_storage\n",
      "ration_storage\n",
      "power_storage\n",
      "co2_storage\n",
      "wheat\n",
      "cabbage\n",
      "strawberry\n",
      "radish\n",
      "red_beet\n",
      "onion\n",
      "food_storage\n"
     ]
    }
   ],
   "source": [
    "for key, value in data[\"storage_capacities\"][\"1\"].items():\n",
    "    print(key)"
   ]
  },
  {
   "cell_type": "markdown",
   "metadata": {},
   "source": [
    "Initialize maximum values for `n2`, `o2`, `co2`, and `h2` in the `habitat`"
   ]
  },
  {
   "cell_type": "code",
   "execution_count": 423,
   "metadata": {},
   "outputs": [],
   "source": [
    "max_habitat_n2 = 0\n",
    "max_habitat_o2 = 0\n",
    "max_habitat_co2 = 0\n",
    "max_habitat_h2 = 0"
   ]
  },
  {
   "cell_type": "markdown",
   "metadata": {},
   "source": [
    "Initialize maximum values for `n2`, `o2`, `co2`, and `h2` in the `greenhouse`"
   ]
  },
  {
   "cell_type": "code",
   "execution_count": 424,
   "metadata": {},
   "outputs": [],
   "source": [
    "max_greenhouse_n2 = 0\n",
    "max_greenhouse_o2 = 0\n",
    "max_greenhouse_co2 = 0\n",
    "max_greenhouse_h2 = 0"
   ]
  },
  {
   "cell_type": "markdown",
   "metadata": {},
   "source": [
    "Initialize maximum values for `potable`, `treated`, and `urine` in the `water_storage`"
   ]
  },
  {
   "cell_type": "code",
   "execution_count": 425,
   "metadata": {},
   "outputs": [],
   "source": [
    "max_water_potable = 0\n",
    "max_water_treated = 0\n",
    "max_water_urine = 0"
   ]
  },
  {
   "cell_type": "markdown",
   "metadata": {},
   "source": [
    "Initialize maximum values for `fertilizer`, `biomass`, and `waste` in the `nutrient_storage`"
   ]
  },
  {
   "cell_type": "code",
   "execution_count": 426,
   "metadata": {},
   "outputs": [],
   "source": [
    "max_nutrient_fertilizer = 0\n",
    "max_nutrient_biomass = 0\n",
    "max_nutrient_waste = 0"
   ]
  },
  {
   "cell_type": "markdown",
   "metadata": {},
   "source": [
    "Initialize maximum values for `ration` and `food` in the `food_storage`"
   ]
  },
  {
   "cell_type": "code",
   "execution_count": 427,
   "metadata": {},
   "outputs": [],
   "source": [
    "max_ration = 0\n",
    "max_food_total = 0"
   ]
  },
  {
   "cell_type": "markdown",
   "metadata": {},
   "source": [
    "Iterate over `storage_capacities` to get data inside each day"
   ]
  },
  {
   "cell_type": "code",
   "execution_count": 428,
   "metadata": {},
   "outputs": [
    {
     "ename": "IndentationError",
     "evalue": "expected an indented block after 'for' statement on line 1 (4241651109.py, line 1)",
     "output_type": "error",
     "traceback": [
      "\u001b[0;36m  File \u001b[0;32m\"/tmp/ipykernel_535/4241651109.py\"\u001b[0;36m, line \u001b[0;32m1\u001b[0m\n\u001b[0;31m    for key, value in data[\"storage_capacities\"].items():\u001b[0m\n\u001b[0m                                                         ^\u001b[0m\n\u001b[0;31mIndentationError\u001b[0m\u001b[0;31m:\u001b[0m expected an indented block after 'for' statement on line 1\n"
     ]
    }
   ],
   "source": [
    "for key, value in data[\"storage_capacities\"].items():"
   ]
  },
  {
   "cell_type": "markdown",
   "metadata": {},
   "source": [
    "Iterate again in each day to get every value in every key"
   ]
  },
  {
   "cell_type": "code",
   "execution_count": null,
   "metadata": {},
   "outputs": [],
   "source": [
    "    for k, v in value.items():"
   ]
  },
  {
   "cell_type": "markdown",
   "metadata": {},
   "source": [
    "Handle the possible error using `try` and `except` since some data can be `null` for some reason"
   ]
  },
  {
   "cell_type": "code",
   "execution_count": null,
   "metadata": {},
   "outputs": [],
   "source": [
    "        try:\n",
    "            v = v[\"1\"]\n",
    "        except KeyError:\n",
    "            pass"
   ]
  },
  {
   "cell_type": "markdown",
   "metadata": {},
   "source": [
    "Check `if` the `k` is inside any of the possible habitat layouts: `crew_habitat_small`, `crew_habitat_medium`, `crew_habitat_sam`"
   ]
  },
  {
   "cell_type": "code",
   "execution_count": null,
   "metadata": {},
   "outputs": [],
   "source": [
    "        if k in [\"crew_habitat_small\", \"crew_habitat_medium\", \"crew_habitat_sam\"]:"
   ]
  },
  {
   "cell_type": "markdown",
   "metadata": {},
   "source": [
    "If it is the case, get `n2`, `o2`, `co2`, and `h2` values for `habitat` and store it"
   ]
  },
  {
   "cell_type": "code",
   "execution_count": null,
   "metadata": {},
   "outputs": [],
   "source": [
    "            habitat_n2 = v[\"n2\"][\"value\"]\n",
    "            habitat_o2 = v[\"o2\"][\"value\"]\n",
    "            habitat_co2 = v[\"co2\"][\"value\"]\n",
    "            habitat_h2 = v[\"h2\"][\"value\"]"
   ]
  },
  {
   "cell_type": "markdown",
   "metadata": {},
   "source": [
    "In each day, check `if` the current values are bigger than (`>`) the `max` values, if it is the case, update the `max` values"
   ]
  },
  {
   "cell_type": "code",
   "execution_count": null,
   "metadata": {},
   "outputs": [],
   "source": [
    "            if habitat_n2 > max_habitat_n2:\n",
    "                max_habitat_n2 = habitat_n2\n",
    "\n",
    "            if habitat_o2 > max_habitat_o2:\n",
    "                max_habitat_o2 = habitat_o2\n",
    "            \n",
    "            if habitat_co2 > max_habitat_co2:\n",
    "                max_habitat_co2 = habitat_co2\n",
    "\n",
    "            if habitat_h2 > max_habitat_h2:\n",
    "                max_habitat_h2 = habitat_h2"
   ]
  },
  {
   "cell_type": "markdown",
   "metadata": {},
   "source": [
    "Check `if` the `k` is inside any of the possible habitat layouts: `greenhouse_small`, `greenhouse_sam`"
   ]
  },
  {
   "cell_type": "code",
   "execution_count": null,
   "metadata": {},
   "outputs": [],
   "source": [
    "        if k in [\"greenhouse_small\", \"greenhouse_sam\"]:"
   ]
  },
  {
   "cell_type": "markdown",
   "metadata": {},
   "source": [
    "If it is the case, get `n2`, `o2`, `co2`, and `h2` values for `greenhouse` and store it"
   ]
  },
  {
   "cell_type": "code",
   "execution_count": null,
   "metadata": {},
   "outputs": [],
   "source": [
    "            greenhouse_n2 = v[\"n2\"][\"value\"]\n",
    "            greenhouse_o2 = v[\"o2\"][\"value\"]\n",
    "            greenhouse_co2 = v[\"co2\"][\"value\"]\n",
    "            greenhouse_h2 = v[\"h2\"][\"value\"]"
   ]
  },
  {
   "cell_type": "markdown",
   "metadata": {},
   "source": [
    "In each day, check `if` the current values are bigger than (`>`) the `max` values, if it is the case, update the `max` values"
   ]
  },
  {
   "cell_type": "code",
   "execution_count": null,
   "metadata": {},
   "outputs": [],
   "source": [
    "            if greenhouse_n2 > max_greenhouse_n2:\n",
    "                max_greenhouse_n2 = greenhouse_n2\n",
    "\n",
    "            if greenhouse_o2 > max_greenhouse_o2:\n",
    "                max_greenhouse_o2 = greenhouse_o2\n",
    "            \n",
    "            if greenhouse_co2 > max_greenhouse_co2:\n",
    "                max_greenhouse_co2 = greenhouse_co2\n",
    "\n",
    "            if greenhouse_h2 > max_greenhouse_h2:\n",
    "                max_greenhouse_h2 = greenhouse_h2"
   ]
  },
  {
   "cell_type": "markdown",
   "metadata": {},
   "source": [
    "Check `if` the `k` is equal to (`==`) `water_storage`"
   ]
  },
  {
   "cell_type": "code",
   "execution_count": null,
   "metadata": {},
   "outputs": [],
   "source": [
    "        if k == \"water_storage\":"
   ]
  },
  {
   "cell_type": "markdown",
   "metadata": {},
   "source": [
    "If it is the case, get `potable`, `treated`, and `urine` values for `water` and store it"
   ]
  },
  {
   "cell_type": "code",
   "execution_count": null,
   "metadata": {},
   "outputs": [],
   "source": [
    "            water_potable = v[\"potable\"][\"value\"]\n",
    "            water_treated = v[\"treated\"][\"value\"]\n",
    "            water_urine = v[\"urine\"][\"value\"]"
   ]
  },
  {
   "cell_type": "markdown",
   "metadata": {},
   "source": [
    "In each day, check `if` the current values are bigger than (`>`) the `max` values, if it is the case, update the `max` values"
   ]
  },
  {
   "cell_type": "code",
   "execution_count": null,
   "metadata": {},
   "outputs": [],
   "source": [
    "            if water_potable > max_water_potable:\n",
    "                max_water_potable = water_potable\n",
    "\n",
    "            if water_treated > max_water_treated:\n",
    "                max_water_treated = water_treated\n",
    "            \n",
    "            if water_urine > max_water_urine:\n",
    "                max_water_urine = water_urine"
   ]
  },
  {
   "cell_type": "code",
   "execution_count": null,
   "metadata": {},
   "outputs": [],
   "source": [
    "        if k ==\"nutrient_storage\":\n",
    "            nutrient_fertilizer = v[\"fertilizer\"][\"value\"]\n",
    "\n",
    "            try:\n",
    "                nutrient_biomass = v[\"biomass\"][\"value\"]\n",
    "            except KeyError:\n",
    "                nutrient_biomass = v[\"inedible_biomass\"][\"value\"]\n",
    "                \n",
    "            nutrient_waste = v[\"waste\"][\"value\"]\n",
    "\n",
    "            if nutrient_fertilizer > max_nutrient_fertilizer:\n",
    "                max_nutrient_fertilizer = nutrient_fertilizer\n",
    "            \n",
    "            if nutrient_biomass > max_nutrient_biomass:\n",
    "                max_nutrient_biomass = nutrient_biomass\n",
    "\n",
    "            if nutrient_waste > max_nutrient_waste:\n",
    "                max_nutrient_waste = nutrient_waste\n",
    "\n",
    "        if k == \"ration_storage\":\n",
    "            ration = v[\"ration\"][\"value\"]\n",
    "            \n",
    "            if ration > max_ration:\n",
    "                max_ration = ration\n",
    "\n",
    "        food_total = 0\n",
    "        if k == \"food_storage\":\n",
    "            for k_, v_ in v.items():\n",
    "                food_total += v_[\"value\"]\n",
    "                \n",
    "            if food_total > max_food_total:\n",
    "                max_food_total = food_total"
   ]
  },
  {
   "cell_type": "code",
   "execution_count": null,
   "metadata": {},
   "outputs": [
    {
     "name": "stdout",
     "output_type": "stream",
     "text": [
      "Maximum N2 level in habitat is: 2205.873\n",
      "Maximum O2 level in habitat is: 601.845636\n",
      "Maximum CO2 level in habitat is: 25.134094\n",
      "Maximum H2 level in habitat is: 0.001554\n",
      "Maximum N2 level in greenhouse is: 478.2645\n",
      "Maximum O2 level in greenhouse is: 130.702507\n",
      "Maximum CO2 level in greenhouse is: 5.350816\n",
      "Maximum H2 level in greenhouse is: 0.000337\n",
      "Maximum potable water level in water storage is: 3234.610976\n",
      "Maximum treated water level in water storage is: 270.25\n",
      "Maximum urine level in water storage is: 3.183056\n",
      "Maximum amount of fertilizer in nutrient storage is: 300.005702\n",
      "Maximum amount of biomass in nutrient storage is: 117.642166\n",
      "Maximum amount of nutrient waste in nutrient storage is: 12.44\n",
      "Maximum ration in ration storage: 1199.74\n",
      "Maximum food in food storage is: 37.812132\n"
     ]
    }
   ],
   "source": [
    "print(f\"Maximum N2 level in habitat is: {max_habitat_n2}\")\n",
    "print(f\"Maximum O2 level in habitat is: {max_habitat_o2}\")\n",
    "print(f\"Maximum CO2 level in habitat is: {max_habitat_co2}\")\n",
    "print(f\"Maximum H2 level in habitat is: {max_habitat_h2}\")"
   ]
  },
  {
   "cell_type": "code",
   "execution_count": null,
   "metadata": {},
   "outputs": [],
   "source": [
    "print(f\"Maximum N2 level in greenhouse is: {max_greenhouse_n2}\")\n",
    "print(f\"Maximum O2 level in greenhouse is: {max_greenhouse_o2}\")\n",
    "print(f\"Maximum CO2 level in greenhouse is: {max_greenhouse_co2}\")\n",
    "print(f\"Maximum H2 level in greenhouse is: {max_greenhouse_h2}\")"
   ]
  },
  {
   "cell_type": "code",
   "execution_count": null,
   "metadata": {},
   "outputs": [],
   "source": [
    "print(f\"Maximum potable water level in water storage is: {max_water_potable}\")\n",
    "print(f\"Maximum treated water level in water storage is: {max_water_treated}\")\n",
    "print(f\"Maximum urine level in water storage is: {max_water_urine}\")"
   ]
  },
  {
   "cell_type": "code",
   "execution_count": null,
   "metadata": {},
   "outputs": [],
   "source": [
    "print(f\"Maximum amount of fertilizer in nutrient storage is: {max_nutrient_fertilizer}\")\n",
    "print(f\"Maximum amount of biomass in nutrient storage is: {max_nutrient_biomass}\")\n",
    "print(f\"Maximum amount of nutrient waste in nutrient storage is: {max_nutrient_waste}\")"
   ]
  },
  {
   "cell_type": "code",
   "execution_count": null,
   "metadata": {},
   "outputs": [],
   "source": [
    "print(f\"Maximum ration in ration storage: {max_ration}\")\n",
    "print(f\"Maximum food in food storage is: {max_food_total}\")"
   ]
  },
  {
   "cell_type": "code",
   "execution_count": null,
   "metadata": {},
   "outputs": [],
   "source": [
    "file.close()"
   ]
  },
  {
   "cell_type": "markdown",
   "metadata": {},
   "source": []
  }
 ],
 "metadata": {
  "kernelspec": {
   "display_name": "Python 3.10.0 64-bit ('3.10.0')",
   "language": "python",
   "name": "python3"
  },
  "language_info": {
   "codemirror_mode": {
    "name": "ipython",
    "version": 3
   },
   "file_extension": ".py",
   "mimetype": "text/x-python",
   "name": "python",
   "nbconvert_exporter": "python",
   "pygments_lexer": "ipython3",
   "version": "3.10.0"
  },
  "orig_nbformat": 4,
  "vscode": {
   "interpreter": {
    "hash": "7ae97f4ecaa294cf52a89096842f766e3d7261ad296543b242f28d017159f378"
   }
  }
 },
 "nbformat": 4,
 "nbformat_minor": 2
}
