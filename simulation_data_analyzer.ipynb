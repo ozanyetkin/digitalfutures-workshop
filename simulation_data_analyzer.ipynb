{
 "cells": [
  {
   "cell_type": "markdown",
   "metadata": {},
   "source": [
    "Import the JSON module since SIMOC exports the data in JSON (JavaScript Object Notation) format"
   ]
  },
  {
   "cell_type": "code",
   "execution_count": 130,
   "metadata": {},
   "outputs": [],
   "source": [
    "import json"
   ]
  },
  {
   "cell_type": "markdown",
   "metadata": {},
   "source": [
    "Open the simulation data as file, use `json.load()` method to retrieve data inside"
   ]
  },
  {
   "cell_type": "code",
   "execution_count": 131,
   "metadata": {},
   "outputs": [],
   "source": [
    "file = open(\"simoc-simulation-data-1human.json\")\n",
    "data = json.load(file)"
   ]
  },
  {
   "cell_type": "markdown",
   "metadata": {},
   "source": [
    "Iterate through data using `for` loop and use `print()` function to observe what is inside"
   ]
  },
  {
   "cell_type": "code",
   "execution_count": 132,
   "metadata": {},
   "outputs": [],
   "source": [
    "food_total = 0\n",
    "\n",
    "for key, value in data[\"game_config\"][\"agents\"].items():\n",
    "    if key == \"crew_habitat_medium\":\n",
    "        habitat_n2 = value[\"n2\"]\n",
    "        habitat_o2 = value[\"o2\"]\n",
    "        habitat_co2 = value[\"co2\"]\n",
    "        habitat_h2 = value[\"h2\"]\n",
    "\n",
    "    if key == \"greenhouse_small\":\n",
    "        greenhouse_n2 = value[\"n2\"]\n",
    "        greenhouse_o2 = value[\"o2\"]\n",
    "        greenhouse_co2 = value[\"co2\"]\n",
    "        greenhouse_h2 = value[\"h2\"]\n",
    "\n",
    "    if key == \"water_storage\":\n",
    "        water_potable = value[\"potable\"]\n",
    "        water_treated = value[\"treated\"]\n",
    "        water_urine = value[\"urine\"]\n",
    "\n",
    "    if key ==\"nutrient_storage\":\n",
    "        nutrient_fertilizer = value[\"fertilizer\"]\n",
    "        nutrient_biomass = value[\"biomass\"]\n",
    "        nutrient_waste = value[\"waste\"]\n",
    "\n",
    "    if key == \"power_storage\":\n",
    "        power_kwh = value[\"kwh\"]\n",
    "\n",
    "    if key == \"food_storage\":\n",
    "        for k, v in value.items():\n",
    "            food_total += value[\"amount\"]"
   ]
  },
  {
   "cell_type": "code",
   "execution_count": 133,
   "metadata": {},
   "outputs": [
    {
     "name": "stdout",
     "output_type": "stream",
     "text": [
      "Starting N2 level in habitat is: 976.05\n",
      "Starting O2 level in habitat is: 241.08057\n",
      "Starting CO2 level in habitat is: 6.43851\n",
      "Starting H2 level in habitat is: 0.000688\n",
      "Starting N2 level in greenhouse is: 478.2645\n",
      "Starting O2 level in greenhouse is: 130.702507\n",
      "Starting CO2 level in greenhouse is: 0\n",
      "Starting H2 level in greenhouse is: 0.000337\n",
      "Starting potable water level in water storage is: 689.4\n",
      "Starting treated water level in water storage is: 76.60000000000001\n",
      "Starting urine level in water storage is: 0\n",
      "Starting amount of fertilizer in nutrient storage is: 300\n",
      "Starting amount of biomass in nutrient storage is: 0\n",
      "Starting amount of nutrient waste in nutrient storage is: 0\n",
      "Starting amount of energy in power storage is: 1000\n",
      "Starting food in food storage is: 7\n"
     ]
    }
   ],
   "source": [
    "print(f\"Starting N2 level in habitat is: {habitat_n2}\")\n",
    "print(f\"Starting O2 level in habitat is: {habitat_o2}\")\n",
    "print(f\"Starting CO2 level in habitat is: {habitat_co2}\")\n",
    "print(f\"Starting H2 level in habitat is: {habitat_h2}\")\n",
    "\n",
    "print(f\"Starting N2 level in greenhouse is: {greenhouse_n2}\")\n",
    "print(f\"Starting O2 level in greenhouse is: {greenhouse_o2}\")\n",
    "print(f\"Starting CO2 level in greenhouse is: {greenhouse_co2}\")\n",
    "print(f\"Starting H2 level in greenhouse is: {greenhouse_h2}\")\n",
    "\n",
    "print(f\"Starting potable water level in water storage is: {water_potable}\")\n",
    "print(f\"Starting treated water level in water storage is: {water_treated}\")\n",
    "print(f\"Starting urine level in water storage is: {water_urine}\")\n",
    "\n",
    "print(f\"Starting amount of fertilizer in nutrient storage is: {nutrient_fertilizer}\")\n",
    "print(f\"Starting amount of biomass in nutrient storage is: {nutrient_biomass}\")\n",
    "print(f\"Starting amount of nutrient waste in nutrient storage is: {nutrient_waste}\")\n",
    "\n",
    "print(f\"Starting amount of energy in power storage is: {power_kwh}\")\n",
    "\n",
    "print(f\"Starting food in food storage is: {food_total}\")"
   ]
  },
  {
   "cell_type": "markdown",
   "metadata": {},
   "source": [
    "Iterate over steps to get total consumption data inside each day"
   ]
  },
  {
   "cell_type": "code",
   "execution_count": 134,
   "metadata": {},
   "outputs": [],
   "source": [
    "max_food_total = 0\n",
    "\n",
    "max_habitat_n2 = 0\n",
    "max_habitat_o2 = 0\n",
    "max_habitat_co2 = 0\n",
    "max_habitat_h2 = 0\n",
    "\n",
    "max_greenhouse_n2 = 0\n",
    "max_greenhouse_o2 = 0\n",
    "max_greenhouse_co2 = 0\n",
    "max_greenhouse_h2 = 0\n",
    "\n",
    "max_water_potable = 0\n",
    "max_water_treated = 0\n",
    "max_water_urine = 0\n",
    "\n",
    "max_nutrient_fertilizer = 0\n",
    "max_nutrient_biomass = 0\n",
    "max_nutrient_waste = 0\n",
    "\n",
    "max_power_kwh = 0\n",
    "\n",
    "for key, value in data[\"storage_capacities\"].items():\n",
    "    for k, v in value.items():\n",
    "        if k in [\"crew_habitat_medium\", \"crew_habitat_sam\", \"crew_habitat_small\"]:\n",
    "            habitat_n2 = v[\"1\"][\"n2\"][\"value\"]\n",
    "            habitat_o2 = v[\"1\"][\"o2\"][\"value\"]\n",
    "            habitat_co2 = v[\"1\"][\"co2\"][\"value\"]\n",
    "            habitat_h2 = v[\"1\"][\"h2\"][\"value\"]\n",
    "\n",
    "            if habitat_n2 > max_habitat_n2:\n",
    "                max_habitat_n2 = habitat_n2\n",
    "\n",
    "            if habitat_o2 > max_habitat_o2:\n",
    "                max_habitat_o2 = habitat_o2\n",
    "            \n",
    "            if habitat_co2 > max_habitat_co2:\n",
    "                max_habitat_co2 = habitat_co2\n",
    "\n",
    "            if habitat_h2 > max_habitat_h2:\n",
    "                max_habitat_h2 = habitat_h2\n",
    "\n",
    "        if k in [\"greenhouse_small\", \"greenhouse_sam\"]:\n",
    "            greenhouse_n2 = v[\"1\"][\"n2\"][\"value\"]\n",
    "            greenhouse_o2 = v[\"1\"][\"o2\"][\"value\"]\n",
    "            greenhouse_co2 = v[\"1\"][\"co2\"][\"value\"]\n",
    "            greenhouse_h2 = v[\"1\"][\"h2\"][\"value\"]\n",
    "\n",
    "            if greenhouse_n2 > max_greenhouse_n2:\n",
    "                max_greenhouse_n2 = greenhouse_n2\n",
    "\n",
    "            if greenhouse_o2 > max_greenhouse_o2:\n",
    "                max_greenhouse_o2 = greenhouse_o2\n",
    "            \n",
    "            if greenhouse_co2 > max_greenhouse_co2:\n",
    "                max_greenhouse_co2 = greenhouse_co2\n",
    "\n",
    "            if greenhouse_h2 > max_greenhouse_h2:\n",
    "                max_greenhouse_h2 = greenhouse_h2\n",
    "\n",
    "        if k == \"water_storage\":\n",
    "            water_potable = v[\"1\"][\"potable\"][\"value\"]\n",
    "            water_treated = v[\"1\"][\"treated\"][\"value\"]\n",
    "            water_urine = v[\"1\"][\"urine\"][\"value\"]\n",
    "\n",
    "            if water_potable > max_water_potable:\n",
    "                max_water_potable = water_potable\n",
    "\n",
    "            if water_treated > max_water_treated:\n",
    "                max_water_treated = water_treated\n",
    "            \n",
    "            if water_urine > max_water_urine:\n",
    "                max_water_urine = water_urine\n",
    "                \n",
    "        if k ==\"nutrient_storage\":\n",
    "            nutrient_fertilizer = v[\"1\"][\"fertilizer\"][\"value\"]\n",
    "            try:\n",
    "                nutrient_biomass = v[\"1\"][\"biomass\"][\"value\"]\n",
    "            except KeyError:\n",
    "                nutrient_biomass = v[\"1\"][\"inedible_biomass\"][\"value\"]\n",
    "            nutrient_waste = v[\"1\"][\"waste\"][\"value\"]\n",
    "\n",
    "            if nutrient_fertilizer > max_nutrient_fertilizer:\n",
    "                max_nutrient_fertilizer = nutrient_fertilizer\n",
    "            \n",
    "            if nutrient_biomass > max_nutrient_biomass:\n",
    "                max_nutrient_biomass = nutrient_biomass\n",
    "\n",
    "            if nutrient_waste > max_nutrient_waste:\n",
    "                max_nutrient_waste = nutrient_waste\n",
    "\n",
    "        if k == \"power_storage\":\n",
    "            power_kwh = v[\"1\"][\"kwh\"][\"value\"]\n",
    "\n",
    "            if power_kwh > max_power_kwh:\n",
    "                max_power_kwh = power_kwh\n",
    "\n",
    "        food_total = 0\n",
    "        if k == \"food_storage\":\n",
    "            for k_, v_ in v.items():\n",
    "                for k__, v__ in v_.items():\n",
    "                    food_total += v__[\"value\"]\n",
    "            if food_total > max_food_total:\n",
    "                max_food_total = food_total"
   ]
  },
  {
   "cell_type": "code",
   "execution_count": 135,
   "metadata": {},
   "outputs": [
    {
     "name": "stdout",
     "output_type": "stream",
     "text": [
      "Maximum N2 level in habitat is: 265.4856\n",
      "Maximum O2 level in habitat is: 71.194817\n",
      "Maximum CO2 level in habitat is: 0.475666\n",
      "Maximum H2 level in habitat is: 0.428667\n",
      "Maximum N2 level in greenhouse is: 482.1687\n",
      "Maximum O2 level in greenhouse is: 129.34155\n",
      "Maximum CO2 level in greenhouse is: 0.832865\n",
      "Maximum H2 level in greenhouse is: 0.727268\n",
      "Maximum potable water level in water storage is: 764.014148\n",
      "Maximum treated water level in water storage is: 71.85\n",
      "Maximum urine level in water storage is: 3.130125\n",
      "Maximum amount of fertilizer in nutrient storage is: 300.14841\n",
      "Maximum amount of biomass in nutrient storage is: 43.303722\n",
      "Maximum amount of nutrient waste in nutrient storage is: 6.36\n",
      "Maximum amount of energy in power storage is: 996.277677\n",
      "Maximum food in food storage is: 19.1301\n"
     ]
    }
   ],
   "source": [
    "print(f\"Maximum N2 level in habitat is: {max_habitat_n2}\")\n",
    "print(f\"Maximum O2 level in habitat is: {max_habitat_o2}\")\n",
    "print(f\"Maximum CO2 level in habitat is: {max_habitat_co2}\")\n",
    "print(f\"Maximum H2 level in habitat is: {max_habitat_h2}\")\n",
    "\n",
    "print(f\"Maximum N2 level in greenhouse is: {max_greenhouse_n2}\")\n",
    "print(f\"Maximum O2 level in greenhouse is: {max_greenhouse_o2}\")\n",
    "print(f\"Maximum CO2 level in greenhouse is: {max_greenhouse_co2}\")\n",
    "print(f\"Maximum H2 level in greenhouse is: {max_greenhouse_h2}\")\n",
    "\n",
    "print(f\"Maximum potable water level in water storage is: {max_water_potable}\")\n",
    "print(f\"Maximum treated water level in water storage is: {max_water_treated}\")\n",
    "print(f\"Maximum urine level in water storage is: {max_water_urine}\")\n",
    "\n",
    "print(f\"Maximum amount of fertilizer in nutrient storage is: {max_nutrient_fertilizer}\")\n",
    "print(f\"Maximum amount of biomass in nutrient storage is: {max_nutrient_biomass}\")\n",
    "print(f\"Maximum amount of nutrient waste in nutrient storage is: {max_nutrient_waste}\")\n",
    "\n",
    "print(f\"Maximum amount of energy in power storage is: {max_power_kwh}\")\n",
    "\n",
    "print(f\"Maximum food in food storage is: {max_food_total}\")"
   ]
  },
  {
   "cell_type": "code",
   "execution_count": 136,
   "metadata": {},
   "outputs": [
    {
     "name": "stdout",
     "output_type": "stream",
     "text": [
      "Ending N2 level in habitat is: 265.4856\n",
      "Ending O2 level in habitat is: 65.581359\n",
      "Ending CO2 level in habitat is: 0.411041\n",
      "Ending H2 level in habitat is: 0.394757\n",
      "Ending N2 level in greenhouse is: 482.1687\n",
      "Ending O2 level in greenhouse is: 119.146543\n",
      "Ending CO2 level in greenhouse is: 0.711292\n",
      "Ending H2 level in greenhouse is: 0.719909\n",
      "Ending potable water level in water storage is: 589.930982\n",
      "Ending treated water level in water storage is: 0.99\n",
      "Ending urine level in water storage is: 1.064781\n",
      "Ending amount of fertilizer in nutrient storage is: 299.890333\n",
      "Ending amount of biomass in nutrient storage is: 24.19814\n",
      "Ending amount of nutrient waste in nutrient storage is: 6.36\n",
      "Ending amount of energy in power storage is: 960.330463\n",
      "Ending food in food storage is: 0\n"
     ]
    }
   ],
   "source": [
    "print(f\"Ending N2 level in habitat is: {habitat_n2}\")\n",
    "print(f\"Ending O2 level in habitat is: {habitat_o2}\")\n",
    "print(f\"Ending CO2 level in habitat is: {habitat_co2}\")\n",
    "print(f\"Ending H2 level in habitat is: {habitat_h2}\")\n",
    "\n",
    "print(f\"Ending N2 level in greenhouse is: {greenhouse_n2}\")\n",
    "print(f\"Ending O2 level in greenhouse is: {greenhouse_o2}\")\n",
    "print(f\"Ending CO2 level in greenhouse is: {greenhouse_co2}\")\n",
    "print(f\"Ending H2 level in greenhouse is: {greenhouse_h2}\")\n",
    "\n",
    "print(f\"Ending potable water level in water storage is: {water_potable}\")\n",
    "print(f\"Ending treated water level in water storage is: {water_treated}\")\n",
    "print(f\"Ending urine level in water storage is: {water_urine}\")\n",
    "\n",
    "print(f\"Ending amount of fertilizer in nutrient storage is: {nutrient_fertilizer}\")\n",
    "print(f\"Ending amount of biomass in nutrient storage is: {nutrient_biomass}\")\n",
    "print(f\"Ending amount of nutrient waste in nutrient storage is: {nutrient_waste}\")\n",
    "\n",
    "print(f\"Ending amount of energy in power storage is: {power_kwh}\")\n",
    "\n",
    "print(f\"Ending food in food storage is: {food_total}\")"
   ]
  },
  {
   "cell_type": "code",
   "execution_count": 137,
   "metadata": {},
   "outputs": [],
   "source": [
    "file.close()"
   ]
  },
  {
   "cell_type": "markdown",
   "metadata": {},
   "source": []
  }
 ],
 "metadata": {
  "kernelspec": {
   "display_name": "Python 3.10.0 64-bit ('3.10.0')",
   "language": "python",
   "name": "python3"
  },
  "language_info": {
   "codemirror_mode": {
    "name": "ipython",
    "version": 3
   },
   "file_extension": ".py",
   "mimetype": "text/x-python",
   "name": "python",
   "nbconvert_exporter": "python",
   "pygments_lexer": "ipython3",
   "version": "3.10.0"
  },
  "orig_nbformat": 4,
  "vscode": {
   "interpreter": {
    "hash": "7ae97f4ecaa294cf52a89096842f766e3d7261ad296543b242f28d017159f378"
   }
  }
 },
 "nbformat": 4,
 "nbformat_minor": 2
}
